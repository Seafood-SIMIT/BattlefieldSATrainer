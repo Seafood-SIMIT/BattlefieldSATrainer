{
 "cells": [
  {
   "cell_type": "code",
   "execution_count": 3,
   "metadata": {
    "tags": []
   },
   "outputs": [],
   "source": [
    "from utils import HParam\n",
    "hp = HParam('config/train_wenzhong.yaml')"
   ]
  },
  {
   "cell_type": "code",
   "execution_count": 5,
   "metadata": {
    "tags": []
   },
   "outputs": [
    {
     "ename": "SyntaxError",
     "evalue": "invalid character in identifier (284342187.py, line 2)",
     "output_type": "error",
     "traceback": [
      "\u001b[0;36m  Cell \u001b[0;32mIn[5], line 2\u001b[0;36m\u001b[0m\n\u001b[0;31m    load_dataset('IDEA-CCNL/Ziya-Finetune-Small'，cache_dir='/root/autodl-tmp/dataset')\u001b[0m\n\u001b[0m                                                         ^\u001b[0m\n\u001b[0;31mSyntaxError\u001b[0m\u001b[0;31m:\u001b[0m invalid character in identifier\n"
     ]
    }
   ],
   "source": [
    "from datasets import load_dataset\n",
    "load_dataset('IDEA-CCNL/Ziya-Finetune-Small'，cache_dir='/root/autodl-tmp/dataset')"
   ]
  },
  {
   "cell_type": "code",
   "execution_count": 4,
   "metadata": {
    "tags": []
   },
   "outputs": [
    {
     "name": "stdout",
     "output_type": "stream",
     "text": [
      "num_data: 1\n",
      "CKPT Loading : /root/autodl-tmp/ckpt/test_0.01.pt\n"
     ]
    }
   ],
   "source": [
    "from gpt2_generator import gpt2_model_gpt2_generator, GPT2_BaseLitModel, WenzhongQALitModel\n",
    "from training.util import import_class, setup_data_from_args\n",
    "from transformers import GPT2Tokenizer, GPT2LMHeadModel\n",
    "import torch\n",
    "gpt2_model = GPT2LMHeadModel.from_pretrained(hp.gpt2.pretrained_file)\n",
    "gpt2_model.load_state_dict(torch.load(hp.test.ckpt_path),False)\n",
    "    #data\n",
    "tokenizer = GPT2Tokenizer.from_pretrained(hp.gpt2.pretrained_file)\n",
    "\n",
    "gpt2_litmodel = WenzhongQALitModel(args=hp.gpt2, model=gpt2_model,num_data=1)\n",
    "print('CKPT Loading : '+hp.test.ckpt_path)\n",
    "#state_dict = torch.load(hp.test.ckpt_path,map_location = torch.device('cpu'))\n",
    "#state_dict = WenzhongQALitModel.load_from_checkpoint(hp.test.ckpt_path,args=hp.gpt2, model=gpt2_model,num_data=1)\n",
    "\n",
    "#gpt2_litmodel = gpt2_litmodel(args=hp.gpt2, model=gpt2_model,num_data=1)"
   ]
  },
  {
   "cell_type": "code",
   "execution_count": 13,
   "metadata": {
    "tags": []
   },
   "outputs": [],
   "source": [
    "\n",
    "question='27分;多云天气;敌方直升机出现在D7区域;我方坦克被敌方摧毁。'\n",
    "tokenizer.add_special_tokens({'pad_token': '<|endoftext|>'})\n",
    "inputs_dict = tokenizer(question,return_tensors='pt')['input_ids']"
   ]
  },
  {
   "cell_type": "code",
   "execution_count": 50,
   "metadata": {
    "tags": []
   },
   "outputs": [
    {
     "name": "stderr",
     "output_type": "stream",
     "text": [
      "The attention mask and the pad token id were not set. As a consequence, you may observe unexpected behavior. Please pass your input's `attention_mask` to obtain reliable results.\n",
      "Setting `pad_token_id` to `eos_token_id`:50256 for open-end generation.\n"
     ]
    }
   ],
   "source": [
    "generated_ids = gpt2_model.generate(inputs_dict,\n",
    "            max_length=512,\n",
    "            do_sample=False,\n",
    "            repetition_penalty=1.3,\n",
    "            early_stopping=True,\n",
    "        )"
   ]
  },
  {
   "cell_type": "code",
   "execution_count": 51,
   "metadata": {
    "tags": []
   },
   "outputs": [
    {
     "name": "stdout",
     "output_type": "stream",
     "text": [
      "27分;多云天气;敌方直升机出现在D7区域;我方坦克被敌方摧毁。\n",
      "27分;多云天气;敌方直升机出现在D7区域;我方坦克被敌方摧毁。 战斗进行中，双方都使用了大量的高射武器，你来我往，不时伤亡情况下，我方坦克也是一度逃生，但是难以打开前后巷道，而对方的坦克利用超声波、光学等特性，能够快速读取并投影到我方坦克上，然后将信息传回炮兵，实施火力覆盖，正好落在我方坦克之后，我方坦克立即被击沉。 在战斗中，我方坦克的第三装甲师虽然只有1门105mm火炮，但是依靠精妙的火力配置，在敌人的火力覆盖下，我方坦克始终保持着较高的命中率，最终我方坦克被击沉。\n",
      "\n",
      "=================================\n",
      "\n"
     ]
    }
   ],
   "source": [
    "#question = tokenizer.decode(inputs_dict['input_ids'])\n",
    "print(question)\n",
    "for sample in generated_ids:\n",
    "        preds = [tokenizer.decode(sample, skip_special_tokens=True,\n",
    "                                  clean_up_tokenization_spaces=True)]\n",
    "        preds = ''.join(preds)\n",
    "        print(preds)\n",
    "        print('\\n=================================\\n')"
   ]
  },
  {
   "cell_type": "code",
   "execution_count": null,
   "metadata": {},
   "outputs": [],
   "source": []
  }
 ],
 "metadata": {
  "kernelspec": {
   "display_name": "Python 3 (ipykernel)",
   "language": "python",
   "name": "python3"
  },
  "language_info": {
   "codemirror_mode": {
    "name": "ipython",
    "version": 3
   },
   "file_extension": ".py",
   "mimetype": "text/x-python",
   "name": "python",
   "nbconvert_exporter": "python",
   "pygments_lexer": "ipython3",
   "version": "3.8.10"
  }
 },
 "nbformat": 4,
 "nbformat_minor": 4
}
