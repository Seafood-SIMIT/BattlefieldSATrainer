{
 "cells": [
  {
   "cell_type": "code",
   "execution_count": 1,
   "metadata": {},
   "outputs": [],
   "source": [
    "from utils import HParam\n",
    "hp = HParam('config/train_wenzhong.yaml')"
   ]
  },
  {
   "cell_type": "code",
   "execution_count": 3,
   "metadata": {},
   "outputs": [
    {
     "name": "stdout",
     "output_type": "stream",
     "text": [
      "Loading GPT2 Model\n",
      "num_data: 1\n"
     ]
    }
   ],
   "source": [
    "from gpt2_generator import gpt2_model_gpt2_generator, GPT2_BaseLitModel, WenzhongQALitModel\n",
    "from training.util import import_class, setup_data_from_args\n",
    "from transformers import GPT2Tokenizer\n",
    "gpt2_model = gpt2_model_gpt2_generator(hp.gpt2.pretrained_file)\n",
    "    #data\n",
    "tokenizer = GPT2Tokenizer.from_pretrained(hp.tokenizer.tokenizer_path)\n",
    "\n",
    "gpt2_litmodel = WenzhongQALitModel\n",
    "#gpt2_litmodel = gpt2_litmodel.load_from_checkpoint(hp.gpt2.chkpt_path, args=hp.gpt2, model=gpt2_model,num_data=1)\n",
    "gpt2_litmodel = gpt2_litmodel(args=hp.gpt2, model=gpt2_model,num_data=1)"
   ]
  },
  {
   "cell_type": "code",
   "execution_count": 4,
   "metadata": {},
   "outputs": [
    {
     "name": "stdout",
     "output_type": "stream",
     "text": [
      "next sentence 0:\n",
      " 蓝方直升机被红方载具击伤撤退，多名步兵由D6绕至D7处进行防守﹔第4集团军除高城本人不幸遇难外｡ 符合先近后远的作战计划﻿ 攻略路程在海滨岛等待着黄方的空马达加速年瑞李郎神謹放弃毛利兰抢先赶往现场途中关拉卡\n",
      "****************************************\n",
      "next sentence 1:\n",
      " 蓝方直升机被红方载具击伤撤退，多名步兵由D6绕至D7。白方发起进攻﹐D5、D8、E2三点受挫｡双方在第三次交战时﻿￥ﾚ除D4死守D1火力缺口外凉令識祥失拉率80%最后以D3突出重� revolver抵消掉D2空中优势的影响יִ 进入敌群充英\n",
      "****************************************\n",
      "next sentence 2:\n",
      " 蓝方直升机被红方载具击伤撤退，多名步兵由D6绕至D7抢夺D8炮塔﹑D10火箭弹。 在D5研发中的D3号有数量更多防空系短程阵地高爆强凝药剂～对在战斗中起着举足輕重的作用。另外￼D2及D4又未确定其安装位置。D1、D11、E、F均土耳其改装了S-70C反器材歼出舱﻿。 攻准�\n",
      "****************************************\n",
      "next sentence 3:\n",
      " 蓝方直升机被红方载具击伤撤退，多名步兵由D6绕至D7处｡﹔炮八师为配合全歼白方系列装甲部队将空中火力瞄准离岸30留距确定其范围神擄较远了码头附近不易躲避无法以有效高速突入ﻫ等地另外械化都会内夜战环境中的求\n",
      "****************************************\n",
      "next sentence 4:\n",
      " 蓝方直升机被红方载具击伤撤退，多名步兵由D6绕至D7平台。双方在防空高地发生碰擦﹐第1营和突出部趁有利场圃时﻿～起飞連航￥。金政投下靶本切降量解脱预瞄什率先占首ﾉ。 约20秒后消掉边的�\n",
      "****************************************\n"
     ]
    }
   ],
   "source": [
    "generation_outputs = gpt2_litmodel.predict(tokenizer('蓝方直升机被红方载具击伤撤退，多名步兵由D6绕至D7',return_tensors='pt'))\n",
    "\n",
    "for idx, sentense in enumerate(generation_outputs.sequences):\n",
    "    print('next sentence %d:\\n'%idx,\n",
    "    tokenizer.decode(sentense).split('<|endoftext|>')[0])\n",
    "    print('*'*40)"
   ]
  }
 ],
 "metadata": {
  "kernelspec": {
   "display_name": "mps",
   "language": "python",
   "name": "python3"
  },
  "language_info": {
   "codemirror_mode": {
    "name": "ipython",
    "version": 3
   },
   "file_extension": ".py",
   "mimetype": "text/x-python",
   "name": "python",
   "nbconvert_exporter": "python",
   "pygments_lexer": "ipython3",
   "version": "3.9.16"
  },
  "orig_nbformat": 4
 },
 "nbformat": 4,
 "nbformat_minor": 2
}
