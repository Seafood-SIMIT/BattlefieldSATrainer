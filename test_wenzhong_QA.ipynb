{
 "cells": [
  {
   "cell_type": "code",
   "execution_count": 4,
   "metadata": {},
   "outputs": [],
   "source": [
    "from utils import HParam\n",
    "hp = HParam('config/test_wenzhong.yaml')"
   ]
  },
  {
   "cell_type": "code",
   "execution_count": 5,
   "metadata": {},
   "outputs": [
    {
     "name": "stdout",
     "output_type": "stream",
     "text": [
      "Loading GPT2 Model\n",
      "num_data: 1\n"
     ]
    }
   ],
   "source": [
    "from gpt2_generator import gpt2_model_gpt2_generator, GPT2_BaseLitModel, WenzhongQALitModel\n",
    "from training.util import import_class, setup_data_from_args\n",
    "from transformers import GPT2Tokenizer\n",
    "gpt2_model = gpt2_model_gpt2_generator(hp.gpt2.pretrained_file)\n",
    "    #data\n",
    "tokenizer = GPT2Tokenizer.from_pretrained(hp.tokenizer.tokenizer_path)\n",
    "\n",
    "gpt2_litmodel = WenzhongQALitModel\n",
    "gpt2_litmodel = gpt2_litmodel.load_from_checkpoint(hp.gpt2.chkpt_path, args=hp.gpt2, model=gpt2_model,num_data=1)"
   ]
  },
  {
   "cell_type": "code",
   "execution_count": 6,
   "metadata": {},
   "outputs": [
    {
     "name": "stdout",
     "output_type": "stream",
     "text": [
      "next sentence 0:\n",
      " 蓝方直升机被红方载具击伤撤退，多名步兵由D6绕至D7;D8地区侦测到一辆白方装甲�药剂量于D9在和平时期。获取情报态势描述﹕E7-5-7出现了一架空中支持武器～�;E9-3-1准备对策﻿�趁着敌方弱点�凌厉的火力����蒋方反坦克武装设施遭受�事故的肆意探浜ﱰ�\n",
      "****************************************\n",
      "next sentence 1:\n",
      " 蓝方直升机被红方载具击伤撤退，多名步兵由D6绕至D7;D8地区侦测到一辆白方装甲�药典﹑一小队空中支援充当补编｜获取情报态势憨厚的蒋方﻿方向后方仑占领了D 7包围事务的点￥路程进展需要一个过硬的部长和一同前移的监控敌方的动吻�记者�ﾎﺲ想覆盖面对�\n",
      "****************************************\n",
      "next sentence 2:\n",
      " 蓝方直升机被红方载具击伤撤退，多名步兵由D6绕至D7;D8地区侦测到一辆空中支援克氏导弹﹐对之前态势的总知￼～﻿ﾎ�获取情报性务息��动怒促� 蓑方在D5、E8、G7等包围下����利用惰思想︩方开始活力�ﱱ��惠普惊险�ﭖ�惧怕惕怎么办;调整惜戒怀�\n",
      "****************************************\n",
      "next sentence 3:\n",
      " 蓝方直升机被红方载具击伤撤退，多名步兵由D6绕至D7;D8地区侦测到一辆白方装甲�虎﹑一小队空中支援充当补火力点｜获取情报态势�述 当前怒办￼�蒙方在中心包围下ﻺ立惕动对策療设定进架方向为F7和G7�G8�寻找答案︩方惊慢�ﾌ调整编制信息�若\n",
      "****************************************\n",
      "next sentence 4:\n",
      " 蓝方直升机被红方载具击伤撤退，多名步兵由D6绕至D7;D8地区侦测到一辆白方装甲�股～￥﹕E7场土在D9圈�﻿获取情报态势描述�蒙方圣圯�圩化胜利﾿方向为G7走后方��加强防御并保持高度的战斗士气和火力。詹姆斯·F·E-2-1圆圈蓑方占领了D5-3-4的空中支架��;E9\n",
      "****************************************\n"
     ]
    }
   ],
   "source": [
    "generation_outputs = gpt2_litmodel.predict(tokenizer('蓝方直升机被红方载具击伤撤退，多名步兵由D6绕至D7',return_tensors='pt'))\n",
    "\n",
    "for idx, sentense in enumerate(generation_outputs.sequences):\n",
    "    print('next sentence %d:\\n'%idx,\n",
    "    tokenizer.decode(sentense).split('<|endoftext|>')[0])\n",
    "    print('*'*40)"
   ]
  }
 ],
 "metadata": {
  "kernelspec": {
   "display_name": "mps",
   "language": "python",
   "name": "python3"
  },
  "language_info": {
   "codemirror_mode": {
    "name": "ipython",
    "version": 3
   },
   "file_extension": ".py",
   "mimetype": "text/x-python",
   "name": "python",
   "nbconvert_exporter": "python",
   "pygments_lexer": "ipython3",
   "version": "3.9.16"
  },
  "orig_nbformat": 4
 },
 "nbformat": 4,
 "nbformat_minor": 2
}
